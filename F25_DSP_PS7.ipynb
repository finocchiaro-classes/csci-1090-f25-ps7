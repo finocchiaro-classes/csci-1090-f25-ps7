{
  "cells": [
    {
      "cell_type": "markdown",
      "metadata": {
        "id": "PvMliTKD9QtL"
      },
      "source": [
        "# Problem Set 7: Efficiency, recursion, regression\n",
        "\n",
        "\n",
        "**This problem set is due Wednesday, November 12, 11:59pm EST**\n"
      ]
    },
    {
      "cell_type": "markdown",
      "metadata": {
        "id": "3X8MUHeh9uGP"
      },
      "source": [
        "## Insert your honor pledge here\n",
        "\n",
        "\n",
        "Start typing here..."
      ]
    },
    {
      "cell_type": "markdown",
      "metadata": {
        "id": "9K8wttnRsXeF"
      },
      "source": [
        "## Part 1: Comparing search efficiency\n",
        "\n",
        "In this part, you will be running my code for linear (sequential) search, smart random search, and binary search 1000 times to see how many guesses each method takes to guess a number.\n",
        "\n",
        "The first three code cells are my code defining the three functions. You can just run them without changing them.\n",
        "\n",
        "The code cell after that is where you will test each search method. You will write a loop to create a random integer betwen 1 and 20 one thousand times. For each random integer, you will see how many guesses it takes for each search method to guess that number. You will keep track so that after 1000 random numbers, you will have, for each search method, a list of 1000 numbers, each representing the number of tries it took to guess that random integer.\n",
        "\n",
        "In the last code cell, you will make a side-by-side plot of histograms of these lists, one for each search method.\n",
        "You will adjust the number of bins for binary search so that it looks nice. The image showing my results -- which should be similar to but not exactly like your results -- appears in the GitHub repo for the assignment.\n"
      ]
    },
    {
      "cell_type": "code",
      "execution_count": null,
      "metadata": {
        "id": "-pblwlDZrino"
      },
      "outputs": [],
      "source": [
        "# just run this code cell\n",
        "\n",
        "# LINEAR (SEQUENTIAL) SEARCH\n",
        "# Just start at 1 and keep guessing\n",
        "def sequential_search(n):\n",
        "    guesses = 1\n",
        "    while guesses != n:\n",
        "        guesses += 1\n",
        "    return guesses\n"
      ]
    },
    {
      "cell_type": "code",
      "execution_count": null,
      "metadata": {
        "id": "keiv6kigrm76"
      },
      "outputs": [],
      "source": [
        "# just run this code cell\n",
        "\n",
        "# SMARTER RANDOM SEARCH\n",
        "# Take all the numbers in the range\n",
        "# shuffle them, then guess them one by one.\n",
        "# This prevents duplicates.\n",
        "def random_smarter(n):\n",
        "    guesses = 0\n",
        "    numbers = list(range(1,21))\n",
        "    random.shuffle(numbers)\n",
        "\n",
        "    while numbers[guesses] != n:\n",
        "        guesses += 1\n",
        "\n",
        "    return guesses"
      ]
    },
    {
      "cell_type": "code",
      "execution_count": null,
      "metadata": {
        "id": "SmG7UOSXroE4"
      },
      "outputs": [],
      "source": [
        "# just run this code cell\n",
        "\n",
        "# BINARY SEARCH\n",
        "\n",
        "def binary_search(n):\n",
        "\n",
        "    guesses = 1\n",
        "\n",
        "    # top, bottom, and middle of the current range\n",
        "    lo = 1\n",
        "    hi = 20\n",
        "    mid = (hi+lo) // 2\n",
        "\n",
        "    # if the middle (your guess is not correct...)\n",
        "    while mid != n:\n",
        "\n",
        "        # if it's too big, lower the top of the range\n",
        "        if mid > n:\n",
        "            hi = mid - 1\n",
        "\n",
        "        # otherwise, increase the bottom of the range\n",
        "        else:\n",
        "            lo = mid + 1\n",
        "        mid = (hi+lo) // 2\n",
        "\n",
        "        guesses += 1\n",
        "    return guesses"
      ]
    },
    {
      "cell_type": "code",
      "execution_count": null,
      "metadata": {
        "id": "m7D42PxgrtM6"
      },
      "outputs": [],
      "source": [
        "import random\n",
        "\n",
        "# create three empty lists, one for each method\n",
        "\n",
        "\n",
        "\n",
        "# Make a loop that executes 1000 times.\n",
        "# Inside the loop, generate a random number between 1 and 20.\n",
        "# Give that number to each search method function, and then\n",
        "# save out the number of guesses it returns into the lists you\n",
        "# created above.\n",
        "\n",
        "\n",
        "\n",
        "\n",
        "\n"
      ]
    },
    {
      "cell_type": "code",
      "execution_count": null,
      "metadata": {
        "id": "hfILN-mFsI6u"
      },
      "outputs": [],
      "source": [
        "import matplotlib.pyplot as plt\n",
        "\n",
        "\n",
        "# Make a side-by-side subplot with a histogram of guess counts,\n",
        "# one histogram for each search type.\n",
        "\n",
        "# Remember to decrease the number of bins for binary search\n",
        "# so that it looks nice (i.e., each bar is touching another bar).\n",
        "\n",
        "\n",
        "\n",
        "\n",
        "\n",
        "\n"
      ]
    },
    {
      "cell_type": "markdown",
      "metadata": {
        "id": "TO4SS6irsdmq"
      },
      "source": [
        "## Part 2: A simple recursive function\n",
        "\n",
        "In this part, I provide code for two simple iterative \"mystery\" functions. For each function, you can read the code, call the function with different inputs, and figure out what it does. Once you know what it does, you will create a recursive version of the function that does exactly the same thing. Be sure to test at least three different inputs with each version of the function to make sure it returns the same output."
      ]
    },
    {
      "cell_type": "code",
      "execution_count": null,
      "metadata": {
        "id": "PpA9T7O5tAKr"
      },
      "outputs": [],
      "source": [
        "# Mystery Function #1\n",
        "\n",
        "def mystery(s):\n",
        "  s2 = \"\"\n",
        "  for i in s:\n",
        "    s2 = i.upper() + \"|||\" + s2\n",
        "  return s2"
      ]
    },
    {
      "cell_type": "code",
      "execution_count": null,
      "metadata": {
        "id": "QSXAgvWFtUak"
      },
      "outputs": [],
      "source": [
        "print(mystery(\"elephant\"))"
      ]
    },
    {
      "cell_type": "code",
      "execution_count": null,
      "metadata": {
        "id": "PR58BC5Etf1o"
      },
      "outputs": [],
      "source": [
        "# Write your recursive version of the function here\n",
        "\n",
        "\n",
        "\n"
      ]
    },
    {
      "cell_type": "code",
      "execution_count": null,
      "metadata": {
        "id": "afxLVJbLtqrS"
      },
      "outputs": [],
      "source": [
        "# In this cell, select three inputs and pass each one into\n",
        "# both of the functions. Make sure that both functions return\n",
        "# the same thing for each of the two functions.\n",
        "\n",
        "\n",
        "\n",
        "\n"
      ]
    },
    {
      "cell_type": "code",
      "execution_count": null,
      "metadata": {
        "id": "-lvczN1wy_r0"
      },
      "outputs": [],
      "source": [
        "# Mystery Function #2\n",
        "\n",
        "def mystery2(n):\n",
        "  output = 0\n",
        "  for i in range(n+1):\n",
        "    output += i\n",
        "  return output"
      ]
    },
    {
      "cell_type": "code",
      "execution_count": null,
      "metadata": {
        "id": "t5qs2cvrtsiP"
      },
      "outputs": [],
      "source": [
        "# Write your recursive version of the function here\n",
        "\n",
        "\n",
        "\n",
        "\n"
      ]
    },
    {
      "cell_type": "code",
      "execution_count": null,
      "metadata": {
        "id": "jwQACbHly8Fm"
      },
      "outputs": [],
      "source": [
        "# In this cell, select three inputs and pass each one into\n",
        "# both of the functions. Make sure that both functions return\n",
        "# the same thing for each of the two functions.\n",
        "\n",
        "\n",
        "\n",
        "\n",
        "\n"
      ]
    },
    {
      "cell_type": "markdown",
      "metadata": {
        "id": "js4Jaou7zSWj"
      },
      "source": [
        "## Part 3: DIY linear regression\n",
        "\n",
        "In this part, you will be recreating something like the by-hand example of linear regression that we did in class.\n",
        "\n",
        "First you will plot some points I provide on a graph using matplotlib.\n",
        "\n",
        "Then you will plot some lines I provide on that graph. I'm going to give you the equations as strings. You will need to write code to generate a value for each possible x value (1 through 6) given that equation. I've provided some comments and a bit of code that will help you make a nice looking graph. The image I expect to see can be found in the GitHub repo for the assignment.\n",
        "\n"
      ]
    },
    {
      "cell_type": "code",
      "execution_count": null,
      "metadata": {
        "id": "WjzZcKIz0B6J"
      },
      "outputs": [],
      "source": [
        "# 1. Plot these (x,y) points on a graph\n",
        "# (1,4), (2,4.75), (3,5.25), (4,7.25), (5,7.5), (6,8.5)\n",
        "\n",
        "# Here are your x values:\n",
        "x = [1, 2, 3, 4, 5, 6]\n",
        "\n",
        "# Now you can write the y values for each point's x\n",
        "\n",
        "\n",
        "\n",
        "\n",
        "# Plot them using 'o' for your marker.\n",
        "\n",
        "\n",
        "\n",
        "\n",
        "\n",
        "# REMEMBER: Don't type plt.show() yet.\n",
        "# You are going to add some lines first!\n",
        "\n",
        "\n",
        "# 2. Plot these lines on the graph.\n",
        "\n",
        "equations = [\"y = x + 3\", \"y = .5x + 4\", \"y = .75x + 3.5\"]\n",
        "\n",
        "# ^^^ These are just strings, of course! ^^^\n",
        "# You need to do the math to generate y values to plot for each x.\n",
        "# You can use this list of strings later on to refer to each line\n",
        "# in the legend of the graph and when you print out your results.\n",
        "\n",
        "# How do you plot them the lines?\n",
        "# For each x value from the points (1 through 6)\n",
        "# calculate the y value for that equation.\n",
        "# Then plot the x's against the y's.\n",
        "\n",
        "\n",
        "\n",
        "\n",
        "\n",
        "# When you plot each line, use the label argument to refer to\n",
        "# the equation from the equations variable.\n",
        "# For instance:\n",
        "# plt.plot(x, y1, label=equations[0])\n",
        "\n",
        "\n",
        "\n",
        "\n",
        "# This commands makes the x and y axis have the same scale\n",
        "plt.axis('scaled')\n",
        "\n",
        "# This command will add a legend, assuming you used the label\n",
        "# argument in your line plot commands, above.\n",
        "plt.legend()\n",
        "\n",
        "# Finally show the graph!\n",
        "plt.show()\n"
      ]
    },
    {
      "cell_type": "code",
      "execution_count": null,
      "metadata": {
        "id": "MRNCCXEizxJY"
      },
      "outputs": [],
      "source": [
        "# 3. Write a function that will calculate sse\n",
        "# for a given set of y values and the predicted\n",
        "# y values for a particular line.\n",
        "\n",
        "\n",
        "\n",
        "\n"
      ]
    },
    {
      "cell_type": "code",
      "execution_count": null,
      "metadata": {
        "id": "eHYhiQEE3p7O"
      },
      "outputs": [],
      "source": [
        "# 4. Use the above function to calculate sse for\n",
        "# each line.\n",
        "\n",
        "\n",
        "\n",
        "\n",
        "\n",
        "\n"
      ]
    },
    {
      "cell_type": "code",
      "execution_count": null,
      "metadata": {
        "id": "9Vp3YvrGST21"
      },
      "outputs": [],
      "source": [
        "# 5. Print out the sse value for each line equation.\n",
        "\n",
        "\n",
        "\n",
        "\n"
      ]
    },
    {
      "cell_type": "code",
      "execution_count": null,
      "metadata": {
        "id": "KeRoBCbmSWiB"
      },
      "outputs": [],
      "source": [
        "# 6. Find the minimum sse, and print out that line equation.\n",
        "\n",
        "\n",
        "\n",
        "\n",
        "\n"
      ]
    },
    {
      "cell_type": "markdown",
      "metadata": {
        "id": "i84XkK8wM0NY"
      },
      "source": [
        "Your output should look something like this:\n",
        "\n",
        "```\n",
        "The sses for the three lines are: 1.1875, 5.1875, 1.25.\n",
        "The line with the least sum of squared error is y = x + 3.\n",
        "```"
      ]
    },
    {
      "cell_type": "markdown",
      "metadata": {
        "id": "bWXFZldxJlA5"
      },
      "source": [
        "---\n",
        "\n",
        "## Submitting your work\n",
        "\n",
        "\n",
        "This problem set is due Wednesday, November 12, 11:59pm EST.\n",
        "\n"
      ]
    }
  ],
  "metadata": {
    "colab": {
      "provenance": []
    },
    "kernelspec": {
      "display_name": "Python 3",
      "name": "python3"
    },
    "language_info": {
      "name": "python"
    }
  },
  "nbformat": 4,
  "nbformat_minor": 0
}
